{
 "cells": [
  {
   "cell_type": "code",
   "execution_count": 1,
   "metadata": {},
   "outputs": [],
   "source": [
    "import time\n",
    "from datetime import datetime\n",
    "import json\n",
    "import random"
   ]
  },
  {
   "cell_type": "code",
   "execution_count": 2,
   "metadata": {},
   "outputs": [],
   "source": [
    "readings = []\n",
    "pids = [id for id in range(2001, 2051)]\n",
    "count = 1\n",
    "for x in range(0, 3):\n",
    "    data = {}\n",
    "    readings = []\n",
    "    for iter in range(0, 20):\n",
    "        for i in range(0, 50):\n",
    "            data['PID'] = pids[i]\n",
    "            data['Systolic'] = random.randint(100,160)\n",
    "            data['Diastolic'] = random.randint(50, 100)\n",
    "            data['Pulse'] = random.randint(60,100)\n",
    "            data['Temp'] = random.uniform(97.0, 99.9)\n",
    "            data['Time Stamp'] = str(datetime.now())\n",
    "            readings.append(data.copy())   \n",
    "        time.sleep(1)\n",
    "    fname = 'test'+str(count)+'.json'\n",
    "    files = open('./data/'+fname, 'w')\n",
    "    files.write(json.dumps(readings))\n",
    "    files.close()\n",
    "    count += 1"
   ]
  },
  {
   "cell_type": "code",
   "execution_count": null,
   "metadata": {},
   "outputs": [],
   "source": []
  }
 ],
 "metadata": {
  "kernelspec": {
   "display_name": "Python 3",
   "language": "python",
   "name": "python3"
  },
  "language_info": {
   "codemirror_mode": {
    "name": "ipython",
    "version": 3
   },
   "file_extension": ".py",
   "mimetype": "text/x-python",
   "name": "python",
   "nbconvert_exporter": "python",
   "pygments_lexer": "ipython3",
   "version": "3.7.6"
  }
 },
 "nbformat": 4,
 "nbformat_minor": 4
}
